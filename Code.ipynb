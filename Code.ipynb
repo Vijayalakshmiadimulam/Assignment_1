{
 "cells": [
  {
   "cell_type": "code",
   "execution_count": null,
   "metadata": {},
   "outputs": [],
   "source": [
    "import numpy as np\n",
    "import pandas as pd\n",
    "import matplotlib.pyplot as plt\n",
    "%matplotlib inline\n",
    "import seaborn as sns\n",
    "import warnings\n",
    "warnings.filterwarnings('ignore')"
   ]
  },
  {
   "cell_type": "code",
   "execution_count": null,
   "metadata": {},
   "outputs": [],
   "source": [
    "def readCSV(dataset):\n",
    "    \"\"\"\"\n",
    "    This Function takes the dataset as argument and loads the dataset \n",
    "    \n",
    "    \"\"\"\n",
    "    data= pd.read_csv(dataset)\n",
    "    return(data)"
   ]
  },
  {
   "cell_type": "code",
   "execution_count": null,
   "metadata": {},
   "outputs": [],
   "source": [
    "# calling the function to read dataset by passing a dataset\n",
    "df = readCSV('coronavirus.csv')"
   ]
  },
  {
   "cell_type": "code",
   "execution_count": null,
   "metadata": {},
   "outputs": [],
   "source": [
    "df"
   ]
  },
  {
   "cell_type": "code",
   "execution_count": null,
   "metadata": {},
   "outputs": [],
   "source": [
    "#Renamimg the columns\n",
    "df = df.rename(columns={'Country/Region' : 'Country', 'WHO Region' : 'Region'})"
   ]
  },
  {
   "cell_type": "code",
   "execution_count": null,
   "metadata": {},
   "outputs": [],
   "source": [
    "df"
   ]
  },
  {
   "cell_type": "code",
   "execution_count": null,
   "metadata": {},
   "outputs": [],
   "source": [
    "#Printing the summary of dataset\n",
    "df.info()"
   ]
  },
  {
   "cell_type": "code",
   "execution_count": null,
   "metadata": {},
   "outputs": [],
   "source": [
    "#Checking the missing values in dataset\n",
    "df.isna()"
   ]
  },
  {
   "cell_type": "code",
   "execution_count": null,
   "metadata": {},
   "outputs": [],
   "source": [
    "#Sum of missing values in the dataset\n",
    "df.isna().sum()"
   ]
  },
  {
   "cell_type": "code",
   "execution_count": null,
   "metadata": {},
   "outputs": [],
   "source": [
    "#Dropping the columns with most missing values\n",
    "df = df.drop(['Province/State','Lat','Long'],axis=1)"
   ]
  },
  {
   "cell_type": "code",
   "execution_count": null,
   "metadata": {},
   "outputs": [],
   "source": [
    "#Dropping the rows with NaN values in Region column\n",
    "df=df.dropna()"
   ]
  },
  {
   "cell_type": "code",
   "execution_count": null,
   "metadata": {},
   "outputs": [],
   "source": [
    "df.head(20)"
   ]
  },
  {
   "cell_type": "code",
   "execution_count": null,
   "metadata": {},
   "outputs": [],
   "source": [
    "df= df.reset_index()"
   ]
  },
  {
   "cell_type": "code",
   "execution_count": null,
   "metadata": {},
   "outputs": [],
   "source": [
    "df=df.drop(['index'],axis=1)"
   ]
  },
  {
   "cell_type": "code",
   "execution_count": null,
   "metadata": {},
   "outputs": [],
   "source": [
    "df"
   ]
  },
  {
   "cell_type": "code",
   "execution_count": null,
   "metadata": {},
   "outputs": [],
   "source": [
    "#Finding datatypes of each column\n",
    "df.dtypes"
   ]
  },
  {
   "cell_type": "code",
   "execution_count": null,
   "metadata": {},
   "outputs": [],
   "source": [
    "#Changing the datatype of date to Datetime Format\n",
    "df['Date']=pd.to_datetime(df['Date'])"
   ]
  },
  {
   "cell_type": "code",
   "execution_count": null,
   "metadata": {},
   "outputs": [],
   "source": [
    "df.dtypes"
   ]
  },
  {
   "cell_type": "code",
   "execution_count": null,
   "metadata": {},
   "outputs": [],
   "source": [
    "df"
   ]
  },
  {
   "cell_type": "code",
   "execution_count": null,
   "metadata": {},
   "outputs": [],
   "source": [
    "#Grouping the rows of dataset by country,Date and Region\n",
    "Country = df.groupby(['Country','Date','Region']).sum().reset_index()"
   ]
  },
  {
   "cell_type": "code",
   "execution_count": null,
   "metadata": {},
   "outputs": [],
   "source": [
    "Country"
   ]
  },
  {
   "cell_type": "code",
   "execution_count": null,
   "metadata": {},
   "outputs": [],
   "source": [
    "#Finding the cumulatve sum of all cases until the max date in dataset\n",
    "Cumulative_sum_cases = Country[Country['Date'] == Country['Date'].max()]\n",
    "Cumulative_sum_cases"
   ]
  },
  {
   "cell_type": "code",
   "execution_count": null,
   "metadata": {},
   "outputs": [],
   "source": [
    "#Finding top 10 countries with most covid cases\n",
    "def top_countries(label):\n",
    "    \"\"\"\"\n",
    "    This function is used to return top 10 countries with most covid cases based on argument label\n",
    "    \"\"\"\n",
    "    sorted_Country = Cumulative_sum_cases.sort_values(label,ascending=False)\n",
    "    return sorted_Country.head(10) "
   ]
  },
  {
   "cell_type": "code",
   "execution_count": null,
   "metadata": {},
   "outputs": [],
   "source": [
    "def bar_chart(x,y,name,name2):\n",
    "    \"\"\"\n",
    "    This function returns the barplot for top 10 countries depending on label \n",
    "    \"\"\"\n",
    "    fig = plt.figure(figsize=(10,8))\n",
    "    ax=fig.add_axes([0,0,1,1])\n",
    "    ax.bar(x,y,color='slateblue')\n",
    "    plt.xlabel(\"Country\",fontsize=14,color='black',fontweight='bold')\n",
    "    plt.ylabel(\"{casetype}\".format(casetype=name2),fontsize=14,fontweight='bold')\n",
    "    plt.title('Top 10 countries with {caseType} '.format(caseType = name),color='crimson',fontsize=12,fontweight='bold')\n",
    "    plt.show()\n",
    "    plt.savefig(name)"
   ]
  },
  {
   "cell_type": "code",
   "execution_count": null,
   "metadata": {},
   "outputs": [],
   "source": [
    "#plotting bar for top 10 countries with confirmed cases\n",
    "x=top_countries('Confirmed')['Country']\n",
    "y=top_countries('Confirmed')['Confirmed']\n",
    "bar_chart(x,y,name='highest covid cases',name2='No. of covid cases')"
   ]
  },
  {
   "cell_type": "code",
   "execution_count": null,
   "metadata": {},
   "outputs": [],
   "source": [
    "#Plotting barchart for most number of deaths by calling bar_chart function\n",
    "x=top_countries('Deaths')['Country']\n",
    "y=top_countries('Deaths')['Deaths']\n",
    "bar_chart(x,y,name='Highest Death cases',name2='No of Death cases')"
   ]
  },
  {
   "cell_type": "code",
   "execution_count": null,
   "metadata": {},
   "outputs": [],
   "source": [
    "#Grouping the data by region \n",
    "region = df.groupby(['Region', 'Date']).sum().reset_index()\n",
    "region"
   ]
  },
  {
   "cell_type": "code",
   "execution_count": null,
   "metadata": {},
   "outputs": [],
   "source": [
    "#Finding the cumulative sum of cases in regions\n",
    "Regions_cum_sum = region[region['Date'] == region['Date'].max()]\n",
    "Regions_cum_sum"
   ]
  },
  {
   "cell_type": "code",
   "execution_count": null,
   "metadata": {},
   "outputs": [],
   "source": [
    "def region_data(x,y):\n",
    "    \"\"\"\n",
    "    This Function is used to visualize the covid cases by region\n",
    "    \"\"\"\n",
    "    plt.figure(figsize=(6,6))\n",
    "    ex=[0,0.1,0,0.1,0,0.1]\n",
    "    Region=Regions_cum_sum['Region']\n",
    "    textprops={\"fontsize\":12,\"fontweight\":'bold'}\n",
    "    colors = ['seagreen','deepskyblue','teal','tomato','crimson','peru']\n",
    "    plt.pie(Regions_cum_sum[x], labels=Region,explode=ex,shadow=True,startangle=50,autopct='%1.1f%%',\n",
    "            textprops=textprops,colors=colors)\n",
    "    plt.title(\"{casetype}  by Region\".format(casetype=y),color='darkmagenta',fontsize=14,fontweight='bold')\n",
    "    plt.show()\n",
    "    plt.savefig('regioncases')"
   ]
  },
  {
   "cell_type": "code",
   "execution_count": null,
   "metadata": {},
   "outputs": [],
   "source": [
    "#Getting the active cases by region\n",
    "region_data('Active','Active cases')"
   ]
  },
  {
   "cell_type": "code",
   "execution_count": null,
   "metadata": {},
   "outputs": [],
   "source": [
    "region_data('Deaths','Death cases')"
   ]
  },
  {
   "cell_type": "code",
   "execution_count": null,
   "metadata": {},
   "outputs": [],
   "source": [
    "#Visualizing the covid trend among different countries\n",
    "df1= df.groupby(['Country','Date'])['Confirmed','Active','Deaths','Recovered'].sum()"
   ]
  },
  {
   "cell_type": "code",
   "execution_count": null,
   "metadata": {},
   "outputs": [],
   "source": [
    "def covid_trend(a,x,y):\n",
    "    \"\"\"\n",
    "    This function is used to visualize the covid trend among different countries\n",
    "    \"\"\"\n",
    "    sns.set(rc={'figure.figsize':(11, 4)})\n",
    "    ax = a.loc[x,y].plot()\n",
    "    ax.set_ylabel('{a} cases in {b}'.format(a=y,b=x))\n",
    "    ax.legend()\n",
    "    ax.set_title('Covid Trend of {casetype} VS Confirmed cases in {countryname}'.format(countryname=x,casetype=y),color='red',fontsize=14)\n",
    "    \n",
    "    "
   ]
  },
  {
   "cell_type": "code",
   "execution_count": null,
   "metadata": {},
   "outputs": [],
   "source": [
    "covid_trend(df1,'Yemen','Confirmed')\n",
    "covid_trend(df1,'Yemen','Deaths')\n"
   ]
  },
  {
   "cell_type": "code",
   "execution_count": null,
   "metadata": {},
   "outputs": [],
   "source": [
    "Cumulative_sum_cases"
   ]
  },
  {
   "cell_type": "code",
   "execution_count": null,
   "metadata": {},
   "outputs": [],
   "source": [
    "#Calculating the Mortality rate percentage for each country\n",
    "Cumulative_sum_cases[\"Mortality Rate%\"] = round((Cumulative_sum_cases.Deaths/Cumulative_sum_cases.Active)*100,2)"
   ]
  },
  {
   "cell_type": "code",
   "execution_count": null,
   "metadata": {},
   "outputs": [],
   "source": [
    "Cumulative_sum_cases"
   ]
  },
  {
   "cell_type": "code",
   "execution_count": null,
   "metadata": {},
   "outputs": [],
   "source": [
    "#Finding the Countries with more mortality rate\n",
    "Mortality_data= Cumulative_sum_cases.sort_values('Mortality Rate%',ascending=False).reset_index()\n",
    "Mortality_data_top= Mortality_data.head(10)\n",
    "Mortality_data_top=Mortality_data_top.drop(['index','Recovered','Date'],axis=1)\n",
    "Mortality_data_top.index=Mortality_data_top.index + 1\n",
    "Mortality_data_top"
   ]
  },
  {
   "cell_type": "code",
   "execution_count": null,
   "metadata": {},
   "outputs": [],
   "source": [
    "#Finding the Mortality rate of Countries with more Confirmed cases\n",
    "Mortality_data_C= Cumulative_sum_cases.sort_values('Confirmed',ascending=False).reset_index()\n",
    "Mortality_data_C = Mortality_data_C.head(10)\n",
    "Mortality_data_C=Mortality_data_C.drop(['index','Recovered','Date'],axis=1)\n",
    "Mortality_data_C.index=Mortality_data_C.index + 1\n",
    "Mortality_data_C"
   ]
  },
  {
   "cell_type": "code",
   "execution_count": null,
   "metadata": {},
   "outputs": [],
   "source": [
    "#Comparing the mortality rate with covid cases in top 10 countries\n",
    "def mortality_rate(data,data2):\n",
    "    fig,ax=plt.subplots(nrows=2,ncols=2,figsize=(20,14)) \n",
    "    ax[0,0].plot(data['Country'],data['Active']) \n",
    "    ax[0,0].set_title(\"Active cases in countries with high mortality\",color='orangered',fontsize=12)\n",
    "    ax[0,1].plot(data['Country'],data['Mortality Rate%']) \n",
    "    ax[0,1].set_title(\"countries with high mortality\",color='orangered',fontsize=12)\n",
    "    ax[1,0].plot(data2['Country'],data2['Active']) \n",
    "    ax[1,0].set_title(\"Countries with highest Active covid cases\",color='orangered',fontsize=12)\n",
    "    ax[1,1].plot(data2['Country'],data2['Mortality Rate%'])\n",
    "    ax[1,1].set_title(\"Mortality rate in countries with more cases\",color='orangered',fontsize=12)\n",
    "    plt.suptitle(\"Comparing Mortality rate of countries with top and least Active cases\",color='darkgreen',fontsize=14\n",
    "                ,fontweight = 'bold',y=0.05)\n",
    "    plt.show()\n",
    "    plt.savefig('Mortality')"
   ]
  },
  {
   "cell_type": "code",
   "execution_count": null,
   "metadata": {},
   "outputs": [],
   "source": [
    "mortality_rate(Mortality_data_top,Mortality_data_C)\n"
   ]
  },
  {
   "cell_type": "code",
   "execution_count": null,
   "metadata": {},
   "outputs": [],
   "source": [
    "#Mortality rate among regions\n",
    "Regions_cum_sum"
   ]
  },
  {
   "cell_type": "code",
   "execution_count": null,
   "metadata": {},
   "outputs": [],
   "source": [
    "Regions_cum_sum = Regions_cum_sum.reset_index()"
   ]
  },
  {
   "cell_type": "code",
   "execution_count": null,
   "metadata": {},
   "outputs": [],
   "source": [
    "Regions_cum_sum = Regions_cum_sum.drop(['index'],axis=1)\n",
    "Regions_cum_sum"
   ]
  },
  {
   "cell_type": "code",
   "execution_count": null,
   "metadata": {},
   "outputs": [],
   "source": [
    "#Mortality rate by region\n",
    "Regions_cum_sum[\"Mortality Rate%\"] = round((Regions_cum_sum.Deaths/Regions_cum_sum.Active)*100,2)"
   ]
  },
  {
   "cell_type": "code",
   "execution_count": null,
   "metadata": {},
   "outputs": [],
   "source": [
    "Regions_cum_sum"
   ]
  },
  {
   "cell_type": "code",
   "execution_count": null,
   "metadata": {},
   "outputs": [],
   "source": [
    "region_data('Mortality Rate%','Mortality Rate')"
   ]
  }
 ],
 "metadata": {
  "kernelspec": {
   "display_name": "Python 3",
   "language": "python",
   "name": "python3"
  },
  "language_info": {
   "codemirror_mode": {
    "name": "ipython",
    "version": 3
   },
   "file_extension": ".py",
   "mimetype": "text/x-python",
   "name": "python",
   "nbconvert_exporter": "python",
   "pygments_lexer": "ipython3",
   "version": "3.7.6"
  }
 },
 "nbformat": 4,
 "nbformat_minor": 4
}
